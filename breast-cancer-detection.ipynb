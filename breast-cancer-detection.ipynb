{
 "cells": [
  {
   "cell_type": "markdown",
   "metadata": {},
   "source": [
    "# Breast cancer detection"
   ]
  },
  {
   "cell_type": "markdown",
   "metadata": {},
   "source": [
    "#### Importing the libraries"
   ]
  },
  {
   "cell_type": "code",
   "execution_count": 2,
   "metadata": {},
   "outputs": [],
   "source": [
    "import numpy as np\n",
    "import pandas as pd\n",
    "import tensorflow as tf\n",
    "from IPython.display import clear_output"
   ]
  },
  {
   "cell_type": "markdown",
   "metadata": {},
   "source": [
    "## Data Preprocessing"
   ]
  },
  {
   "cell_type": "code",
   "execution_count": 3,
   "metadata": {},
   "outputs": [],
   "source": [
    "dataset = pd.read_csv('./input/breast_cancer_data_wisconsin.csv')"
   ]
  },
  {
   "cell_type": "markdown",
   "metadata": {},
   "source": [
    "#### Exploratery analysis of the data"
   ]
  },
  {
   "cell_type": "code",
   "execution_count": 4,
   "metadata": {},
   "outputs": [],
   "source": [
    "# print(dataset)\n",
    "# print(dataset.head(5))\n",
    "print(dataset.columns)\n",
    "clear_output()\n"
   ]
  },
  {
   "cell_type": "markdown",
   "metadata": {},
   "source": [
    "#### Input and output variable selection"
   ]
  },
  {
   "cell_type": "code",
   "execution_count": 5,
   "metadata": {},
   "outputs": [],
   "source": [
    "x = dataset.iloc[:, 1:31].values\n",
    "y = dataset.iloc[:, -1].values"
   ]
  },
  {
   "cell_type": "code",
   "execution_count": 6,
   "metadata": {},
   "outputs": [],
   "source": [
    "print(x)\n",
    "clear_output()"
   ]
  },
  {
   "cell_type": "code",
   "execution_count": 7,
   "metadata": {},
   "outputs": [],
   "source": [
    "print(y)\n",
    "clear_output()"
   ]
  },
  {
   "cell_type": "markdown",
   "metadata": {},
   "source": [
    "#### Find if there is any missing data"
   ]
  },
  {
   "cell_type": "code",
   "execution_count": 8,
   "metadata": {},
   "outputs": [],
   "source": [
    "dataset.isnull().sum()\n",
    "dataset.isna().sum()\n",
    "clear_output()"
   ]
  },
  {
   "cell_type": "markdown",
   "metadata": {},
   "source": [
    "#### Encode categorical data"
   ]
  },
  {
   "cell_type": "code",
   "execution_count": 23,
   "metadata": {},
   "outputs": [],
   "source": [
    "from sklearn.preprocessing import LabelEncoder \n",
    "le = LabelEncoder() \n",
    "y = le.fit_transform(y)\n",
    "print(y)\n",
    "clear_output()"
   ]
  },
  {
   "cell_type": "markdown",
   "metadata": {},
   "source": [
    "#### Splitting the dataset into the Training set and Test set"
   ]
  },
  {
   "cell_type": "code",
   "execution_count": 10,
   "metadata": {},
   "outputs": [],
   "source": [
    "from sklearn.model_selection import train_test_split\n",
    "x_train, x_test, y_train, y_test = train_test_split(x, y, test_size=0.20, random_state=42)\n",
    "# print(x_train.shape)"
   ]
  },
  {
   "cell_type": "markdown",
   "metadata": {},
   "source": [
    "#### Feature Scaling"
   ]
  },
  {
   "cell_type": "code",
   "execution_count": 11,
   "metadata": {},
   "outputs": [],
   "source": [
    "from sklearn.preprocessing import StandardScaler\n",
    "sc = StandardScaler()\n",
    "x_train = sc.fit_transform(x_train)\n",
    "x_test = sc.transform(x_test)"
   ]
  },
  {
   "cell_type": "markdown",
   "metadata": {},
   "source": [
    "## Building the ANN"
   ]
  },
  {
   "cell_type": "markdown",
   "metadata": {},
   "source": [
    "#### Initializing the ANN"
   ]
  },
  {
   "cell_type": "code",
   "execution_count": 12,
   "metadata": {},
   "outputs": [],
   "source": [
    "ann = tf.keras.models.Sequential()"
   ]
  },
  {
   "cell_type": "markdown",
   "metadata": {},
   "source": [
    "#### Adding the input layer and the first hidden layer"
   ]
  },
  {
   "cell_type": "code",
   "execution_count": 13,
   "metadata": {},
   "outputs": [],
   "source": [
    "ann.add(tf.keras.layers.Dense(units=8, activation='relu'))"
   ]
  },
  {
   "cell_type": "markdown",
   "metadata": {},
   "source": [
    "#### Adding the second hidden layer"
   ]
  },
  {
   "cell_type": "code",
   "execution_count": 14,
   "metadata": {},
   "outputs": [],
   "source": [
    "ann.add(tf.keras.layers.Dense(units=8, activation='relu'))"
   ]
  },
  {
   "cell_type": "markdown",
   "metadata": {},
   "source": [
    "#### Adding the output layer"
   ]
  },
  {
   "cell_type": "code",
   "execution_count": 15,
   "metadata": {},
   "outputs": [],
   "source": [
    "ann.add(tf.keras.layers.Dense(units=1, activation='sigmoid'))"
   ]
  },
  {
   "cell_type": "markdown",
   "metadata": {},
   "source": [
    "## Training the ANN"
   ]
  },
  {
   "cell_type": "markdown",
   "metadata": {},
   "source": [
    "#### Compiling the ANN"
   ]
  },
  {
   "cell_type": "code",
   "execution_count": 56,
   "metadata": {},
   "outputs": [],
   "source": [
    "ann.compile(optimizer = 'adam', loss = 'binary_crossentropy', metrics = ['accuracy'])"
   ]
  },
  {
   "cell_type": "markdown",
   "metadata": {},
   "source": [
    "#### Training the ANN on the Training set"
   ]
  },
  {
   "cell_type": "code",
   "execution_count": 57,
   "metadata": {},
   "outputs": [
    {
     "name": "stdout",
     "output_type": "stream",
     "text": [
      "Epoch 1/100\n",
      "15/15 [==============================] - 1s 1ms/step - loss: 9.0677e-05 - accuracy: 1.0000\n",
      "Epoch 2/100\n",
      "15/15 [==============================] - 0s 1ms/step - loss: 7.8204e-05 - accuracy: 1.0000\n",
      "Epoch 3/100\n",
      "15/15 [==============================] - 0s 1ms/step - loss: 7.5184e-05 - accuracy: 1.0000\n",
      "Epoch 4/100\n",
      "15/15 [==============================] - 0s 1ms/step - loss: 6.8900e-05 - accuracy: 1.0000\n",
      "Epoch 5/100\n",
      "15/15 [==============================] - 0s 2ms/step - loss: 6.8920e-05 - accuracy: 1.0000\n",
      "Epoch 6/100\n",
      "15/15 [==============================] - 0s 1ms/step - loss: 5.3950e-05 - accuracy: 1.0000\n",
      "Epoch 7/100\n",
      "15/15 [==============================] - 0s 1ms/step - loss: 5.3565e-05 - accuracy: 1.0000\n",
      "Epoch 8/100\n",
      "15/15 [==============================] - 0s 2ms/step - loss: 4.7517e-05 - accuracy: 1.0000\n",
      "Epoch 9/100\n",
      "15/15 [==============================] - 0s 1ms/step - loss: 4.7482e-05 - accuracy: 1.0000\n",
      "Epoch 10/100\n",
      "15/15 [==============================] - 0s 1ms/step - loss: 4.0243e-05 - accuracy: 1.0000\n",
      "Epoch 11/100\n",
      "15/15 [==============================] - 0s 3ms/step - loss: 3.9338e-05 - accuracy: 1.0000\n",
      "Epoch 12/100\n",
      "15/15 [==============================] - 0s 2ms/step - loss: 3.6408e-05 - accuracy: 1.0000\n",
      "Epoch 13/100\n",
      "15/15 [==============================] - 0s 1ms/step - loss: 3.3340e-05 - accuracy: 1.0000\n",
      "Epoch 14/100\n",
      "15/15 [==============================] - 0s 1ms/step - loss: 3.3443e-05 - accuracy: 1.0000\n",
      "Epoch 15/100\n",
      "15/15 [==============================] - 0s 1ms/step - loss: 3.2058e-05 - accuracy: 1.0000\n",
      "Epoch 16/100\n",
      "15/15 [==============================] - 0s 2ms/step - loss: 2.9110e-05 - accuracy: 1.0000\n",
      "Epoch 17/100\n",
      "15/15 [==============================] - 0s 1ms/step - loss: 2.7253e-05 - accuracy: 1.0000\n",
      "Epoch 18/100\n",
      "15/15 [==============================] - 0s 2ms/step - loss: 2.6691e-05 - accuracy: 1.0000\n",
      "Epoch 19/100\n",
      "15/15 [==============================] - 0s 1ms/step - loss: 2.4643e-05 - accuracy: 1.0000\n",
      "Epoch 20/100\n",
      "15/15 [==============================] - 0s 1ms/step - loss: 2.3270e-05 - accuracy: 1.0000\n",
      "Epoch 21/100\n",
      "15/15 [==============================] - 0s 1ms/step - loss: 2.1624e-05 - accuracy: 1.0000\n",
      "Epoch 22/100\n",
      "15/15 [==============================] - 0s 1ms/step - loss: 2.1384e-05 - accuracy: 1.0000\n",
      "Epoch 23/100\n",
      "15/15 [==============================] - 0s 1ms/step - loss: 2.0557e-05 - accuracy: 1.0000\n",
      "Epoch 24/100\n",
      "15/15 [==============================] - 0s 2ms/step - loss: 1.9560e-05 - accuracy: 1.0000\n",
      "Epoch 25/100\n",
      "15/15 [==============================] - 0s 1ms/step - loss: 1.9206e-05 - accuracy: 1.0000\n",
      "Epoch 26/100\n",
      "15/15 [==============================] - 0s 2ms/step - loss: 1.8161e-05 - accuracy: 1.0000\n",
      "Epoch 27/100\n",
      "15/15 [==============================] - 0s 1ms/step - loss: 1.6465e-05 - accuracy: 1.0000\n",
      "Epoch 28/100\n",
      "15/15 [==============================] - 0s 2ms/step - loss: 1.5357e-05 - accuracy: 1.0000\n",
      "Epoch 29/100\n",
      "15/15 [==============================] - 0s 1ms/step - loss: 1.4641e-05 - accuracy: 1.0000\n",
      "Epoch 30/100\n",
      "15/15 [==============================] - 0s 2ms/step - loss: 1.4792e-05 - accuracy: 1.0000\n",
      "Epoch 31/100\n",
      "15/15 [==============================] - 0s 1ms/step - loss: 1.3902e-05 - accuracy: 1.0000\n",
      "Epoch 32/100\n",
      "15/15 [==============================] - 0s 1ms/step - loss: 1.3041e-05 - accuracy: 1.0000\n",
      "Epoch 33/100\n",
      "15/15 [==============================] - 0s 1ms/step - loss: 1.2536e-05 - accuracy: 1.0000\n",
      "Epoch 34/100\n",
      "15/15 [==============================] - 0s 2ms/step - loss: 1.4351e-05 - accuracy: 1.0000\n",
      "Epoch 35/100\n",
      "15/15 [==============================] - 0s 2ms/step - loss: 1.1762e-05 - accuracy: 1.0000\n",
      "Epoch 36/100\n",
      "15/15 [==============================] - 0s 2ms/step - loss: 1.1385e-05 - accuracy: 1.0000\n",
      "Epoch 37/100\n",
      "15/15 [==============================] - 0s 1ms/step - loss: 1.0814e-05 - accuracy: 1.0000\n",
      "Epoch 38/100\n",
      "15/15 [==============================] - 0s 2ms/step - loss: 1.0238e-05 - accuracy: 1.0000\n",
      "Epoch 39/100\n",
      "15/15 [==============================] - 0s 1ms/step - loss: 9.9054e-06 - accuracy: 1.0000\n",
      "Epoch 40/100\n",
      "15/15 [==============================] - 0s 1ms/step - loss: 9.5836e-06 - accuracy: 1.0000\n",
      "Epoch 41/100\n",
      "15/15 [==============================] - 0s 2ms/step - loss: 9.2413e-06 - accuracy: 1.0000\n",
      "Epoch 42/100\n",
      "15/15 [==============================] - 0s 1ms/step - loss: 9.0250e-06 - accuracy: 1.0000\n",
      "Epoch 43/100\n",
      "15/15 [==============================] - 0s 1ms/step - loss: 8.5697e-06 - accuracy: 1.0000\n",
      "Epoch 44/100\n",
      "15/15 [==============================] - 0s 2ms/step - loss: 8.7452e-06 - accuracy: 1.0000\n",
      "Epoch 45/100\n",
      "15/15 [==============================] - 0s 2ms/step - loss: 8.5709e-06 - accuracy: 1.0000\n",
      "Epoch 46/100\n",
      "15/15 [==============================] - 0s 2ms/step - loss: 7.9975e-06 - accuracy: 1.0000\n",
      "Epoch 47/100\n",
      "15/15 [==============================] - 0s 1ms/step - loss: 7.7872e-06 - accuracy: 1.0000\n",
      "Epoch 48/100\n",
      "15/15 [==============================] - 0s 2ms/step - loss: 7.5169e-06 - accuracy: 1.0000\n",
      "Epoch 49/100\n",
      "15/15 [==============================] - 0s 2ms/step - loss: 7.0925e-06 - accuracy: 1.0000\n",
      "Epoch 50/100\n",
      "15/15 [==============================] - 0s 2ms/step - loss: 6.9038e-06 - accuracy: 1.0000\n",
      "Epoch 51/100\n",
      "15/15 [==============================] - 0s 2ms/step - loss: 6.7099e-06 - accuracy: 1.0000\n",
      "Epoch 52/100\n",
      "15/15 [==============================] - 0s 1ms/step - loss: 6.6040e-06 - accuracy: 1.0000\n",
      "Epoch 53/100\n",
      "15/15 [==============================] - 0s 2ms/step - loss: 6.3961e-06 - accuracy: 1.0000\n",
      "Epoch 54/100\n",
      "15/15 [==============================] - 0s 2ms/step - loss: 6.2145e-06 - accuracy: 1.0000\n",
      "Epoch 55/100\n",
      "15/15 [==============================] - 0s 2ms/step - loss: 5.9595e-06 - accuracy: 1.0000\n",
      "Epoch 56/100\n",
      "15/15 [==============================] - 0s 2ms/step - loss: 5.6994e-06 - accuracy: 1.0000\n",
      "Epoch 57/100\n",
      "15/15 [==============================] - 0s 2ms/step - loss: 5.5607e-06 - accuracy: 1.0000\n",
      "Epoch 58/100\n",
      "15/15 [==============================] - 0s 1ms/step - loss: 5.5865e-06 - accuracy: 1.0000\n",
      "Epoch 59/100\n",
      "15/15 [==============================] - 0s 2ms/step - loss: 5.2676e-06 - accuracy: 1.0000\n",
      "Epoch 60/100\n",
      "15/15 [==============================] - 0s 2ms/step - loss: 5.4632e-06 - accuracy: 1.0000\n",
      "Epoch 61/100\n",
      "15/15 [==============================] - 0s 2ms/step - loss: 5.4829e-06 - accuracy: 1.0000\n",
      "Epoch 62/100\n",
      "15/15 [==============================] - 0s 3ms/step - loss: 4.9743e-06 - accuracy: 1.0000\n",
      "Epoch 63/100\n",
      "15/15 [==============================] - 0s 2ms/step - loss: 4.8363e-06 - accuracy: 1.0000\n",
      "Epoch 64/100\n",
      "15/15 [==============================] - 0s 2ms/step - loss: 4.6889e-06 - accuracy: 1.0000\n",
      "Epoch 65/100\n",
      "15/15 [==============================] - 0s 2ms/step - loss: 4.6017e-06 - accuracy: 1.0000\n",
      "Epoch 66/100\n",
      "15/15 [==============================] - 0s 2ms/step - loss: 4.5322e-06 - accuracy: 1.0000\n",
      "Epoch 67/100\n",
      "15/15 [==============================] - 0s 2ms/step - loss: 4.4701e-06 - accuracy: 1.0000\n",
      "Epoch 68/100\n",
      "15/15 [==============================] - 0s 2ms/step - loss: 4.2199e-06 - accuracy: 1.0000\n",
      "Epoch 69/100\n",
      "15/15 [==============================] - 0s 2ms/step - loss: 4.1736e-06 - accuracy: 1.0000\n",
      "Epoch 70/100\n",
      "15/15 [==============================] - 0s 2ms/step - loss: 4.0546e-06 - accuracy: 1.0000\n",
      "Epoch 71/100\n",
      "15/15 [==============================] - 0s 2ms/step - loss: 3.9313e-06 - accuracy: 1.0000\n",
      "Epoch 72/100\n",
      "15/15 [==============================] - 0s 2ms/step - loss: 3.8497e-06 - accuracy: 1.0000\n",
      "Epoch 73/100\n",
      "15/15 [==============================] - 0s 2ms/step - loss: 3.7652e-06 - accuracy: 1.0000\n",
      "Epoch 74/100\n",
      "15/15 [==============================] - 0s 2ms/step - loss: 3.6849e-06 - accuracy: 1.0000\n",
      "Epoch 75/100\n",
      "15/15 [==============================] - 0s 1ms/step - loss: 3.5911e-06 - accuracy: 1.0000\n",
      "Epoch 76/100\n",
      "15/15 [==============================] - 0s 1ms/step - loss: 3.5032e-06 - accuracy: 1.0000\n",
      "Epoch 77/100\n",
      "15/15 [==============================] - 0s 1ms/step - loss: 3.4254e-06 - accuracy: 1.0000\n",
      "Epoch 78/100\n",
      "15/15 [==============================] - 0s 1ms/step - loss: 3.3475e-06 - accuracy: 1.0000\n",
      "Epoch 79/100\n",
      "15/15 [==============================] - 0s 1ms/step - loss: 3.3138e-06 - accuracy: 1.0000\n",
      "Epoch 80/100\n",
      "15/15 [==============================] - 0s 2ms/step - loss: 3.2177e-06 - accuracy: 1.0000\n",
      "Epoch 81/100\n",
      "15/15 [==============================] - 0s 2ms/step - loss: 3.1378e-06 - accuracy: 1.0000\n",
      "Epoch 82/100\n",
      "15/15 [==============================] - 0s 2ms/step - loss: 3.1654e-06 - accuracy: 1.0000\n",
      "Epoch 83/100\n",
      "15/15 [==============================] - 0s 2ms/step - loss: 3.1089e-06 - accuracy: 1.0000\n",
      "Epoch 84/100\n",
      "15/15 [==============================] - 0s 2ms/step - loss: 2.9599e-06 - accuracy: 1.0000\n",
      "Epoch 85/100\n",
      "15/15 [==============================] - 0s 2ms/step - loss: 2.8836e-06 - accuracy: 1.0000\n",
      "Epoch 86/100\n",
      "15/15 [==============================] - 0s 1ms/step - loss: 2.8888e-06 - accuracy: 1.0000\n",
      "Epoch 87/100\n",
      "15/15 [==============================] - 0s 1ms/step - loss: 2.7621e-06 - accuracy: 1.0000\n",
      "Epoch 88/100\n",
      "15/15 [==============================] - 0s 1ms/step - loss: 2.7016e-06 - accuracy: 1.0000\n",
      "Epoch 89/100\n",
      "15/15 [==============================] - 0s 2ms/step - loss: 2.6715e-06 - accuracy: 1.0000\n",
      "Epoch 90/100\n",
      "15/15 [==============================] - 0s 2ms/step - loss: 2.6059e-06 - accuracy: 1.0000\n",
      "Epoch 91/100\n",
      "15/15 [==============================] - 0s 2ms/step - loss: 2.5948e-06 - accuracy: 1.0000\n",
      "Epoch 92/100\n",
      "15/15 [==============================] - 0s 3ms/step - loss: 2.5057e-06 - accuracy: 1.0000\n",
      "Epoch 93/100\n",
      "15/15 [==============================] - 0s 2ms/step - loss: 2.4610e-06 - accuracy: 1.0000\n",
      "Epoch 94/100\n",
      "15/15 [==============================] - 0s 1ms/step - loss: 2.4184e-06 - accuracy: 1.0000\n",
      "Epoch 95/100\n",
      "15/15 [==============================] - 0s 2ms/step - loss: 2.3535e-06 - accuracy: 1.0000\n",
      "Epoch 96/100\n",
      "15/15 [==============================] - 0s 2ms/step - loss: 2.3363e-06 - accuracy: 1.0000\n",
      "Epoch 97/100\n",
      "15/15 [==============================] - 0s 2ms/step - loss: 2.3245e-06 - accuracy: 1.0000\n",
      "Epoch 98/100\n",
      "15/15 [==============================] - 0s 2ms/step - loss: 2.2690e-06 - accuracy: 1.0000\n",
      "Epoch 99/100\n",
      "15/15 [==============================] - 0s 2ms/step - loss: 2.2389e-06 - accuracy: 1.0000\n",
      "Epoch 100/100\n",
      "15/15 [==============================] - 0s 2ms/step - loss: 2.2032e-06 - accuracy: 1.0000\n"
     ]
    },
    {
     "data": {
      "text/plain": [
       "<keras.callbacks.History at 0x2457f7ef610>"
      ]
     },
     "execution_count": 57,
     "metadata": {},
     "output_type": "execute_result"
    }
   ],
   "source": [
    "ann.fit(x_train, y_train, batch_size = 32, epochs = 100)"
   ]
  },
  {
   "cell_type": "markdown",
   "metadata": {},
   "source": [
    "## Making the predictions and evaluating the model"
   ]
  },
  {
   "cell_type": "markdown",
   "metadata": {},
   "source": [
    "#### Predicting the Test set results"
   ]
  },
  {
   "cell_type": "code",
   "execution_count": 58,
   "metadata": {},
   "outputs": [
    {
     "name": "stdout",
     "output_type": "stream",
     "text": [
      "4/4 [==============================] - 0s 1ms/step\n",
      "[[0 0]\n",
      " [1 1]\n",
      " [1 1]\n",
      " [0 0]\n",
      " [0 0]\n",
      " [1 1]\n",
      " [1 1]\n",
      " [1 1]\n",
      " [0 0]\n",
      " [0 0]\n",
      " [0 0]\n",
      " [1 1]\n",
      " [0 0]\n",
      " [1 1]\n",
      " [0 0]\n",
      " [1 1]\n",
      " [0 0]\n",
      " [0 0]\n",
      " [0 0]\n",
      " [1 1]\n",
      " [0 1]\n",
      " [0 0]\n",
      " [1 1]\n",
      " [0 0]\n",
      " [0 0]\n",
      " [0 0]\n",
      " [0 0]\n",
      " [0 0]\n",
      " [0 0]\n",
      " [1 1]\n",
      " [0 0]\n",
      " [0 0]\n",
      " [0 0]\n",
      " [0 0]\n",
      " [0 0]\n",
      " [0 0]\n",
      " [1 1]\n",
      " [0 0]\n",
      " [1 1]\n",
      " [0 0]\n",
      " [0 0]\n",
      " [1 1]\n",
      " [0 0]\n",
      " [0 0]\n",
      " [1 0]\n",
      " [0 0]\n",
      " [0 0]\n",
      " [0 0]\n",
      " [0 0]\n",
      " [0 0]\n",
      " [1 1]\n",
      " [1 1]\n",
      " [0 0]\n",
      " [0 0]\n",
      " [0 0]\n",
      " [0 0]\n",
      " [0 0]\n",
      " [1 1]\n",
      " [1 1]\n",
      " [0 0]\n",
      " [0 0]\n",
      " [1 1]\n",
      " [1 1]\n",
      " [0 0]\n",
      " [0 0]\n",
      " [0 0]\n",
      " [1 1]\n",
      " [1 1]\n",
      " [0 0]\n",
      " [0 0]\n",
      " [1 1]\n",
      " [1 1]\n",
      " [0 0]\n",
      " [1 1]\n",
      " [0 0]\n",
      " [0 0]\n",
      " [0 0]\n",
      " [0 1]\n",
      " [0 0]\n",
      " [0 0]\n",
      " [1 1]\n",
      " [0 0]\n",
      " [1 1]\n",
      " [1 1]\n",
      " [1 1]\n",
      " [1 1]\n",
      " [1 1]\n",
      " [1 1]\n",
      " [0 0]\n",
      " [0 0]\n",
      " [0 0]\n",
      " [1 0]\n",
      " [0 0]\n",
      " [0 0]\n",
      " [0 0]\n",
      " [0 0]\n",
      " [1 1]\n",
      " [1 1]\n",
      " [0 0]\n",
      " [1 1]\n",
      " [1 1]\n",
      " [0 0]\n",
      " [1 1]\n",
      " [1 1]\n",
      " [0 0]\n",
      " [0 0]\n",
      " [0 0]\n",
      " [1 1]\n",
      " [0 0]\n",
      " [0 0]\n",
      " [1 1]\n",
      " [0 0]\n",
      " [0 0]\n",
      " [1 1]]\n"
     ]
    }
   ],
   "source": [
    "y_pred = ann.predict(x_test)\n",
    "y_pred = (y_pred > 0.5) # 0.5 is the threshold that we selected for binary classification\n",
    "print(np.concatenate((y_pred.reshape(len(y_pred),1), y_test.reshape(len(y_test),1)),1))\n"
   ]
  },
  {
   "cell_type": "markdown",
   "metadata": {},
   "source": [
    "#### Making the Confusion Matrix"
   ]
  },
  {
   "cell_type": "code",
   "execution_count": 59,
   "metadata": {},
   "outputs": [
    {
     "name": "stdout",
     "output_type": "stream",
     "text": [
      "[[69  2]\n",
      " [ 2 41]]\n"
     ]
    },
    {
     "data": {
      "text/plain": [
       "0.9649122807017544"
      ]
     },
     "execution_count": 59,
     "metadata": {},
     "output_type": "execute_result"
    }
   ],
   "source": [
    "from sklearn.metrics import confusion_matrix, accuracy_score\n",
    "cm = confusion_matrix(y_test, y_pred)\n",
    "print(cm)\n",
    "accuracy_score(y_test, y_pred)"
   ]
  }
 ],
 "metadata": {
  "kernelspec": {
   "display_name": "Python 3",
   "language": "python",
   "name": "python3"
  },
  "language_info": {
   "codemirror_mode": {
    "name": "ipython",
    "version": 3
   },
   "file_extension": ".py",
   "mimetype": "text/x-python",
   "name": "python",
   "nbconvert_exporter": "python",
   "pygments_lexer": "ipython3",
   "version": "3.8.7rc1"
  }
 },
 "nbformat": 4,
 "nbformat_minor": 2
}
